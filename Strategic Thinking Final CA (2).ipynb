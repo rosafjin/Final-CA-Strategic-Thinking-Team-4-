{
 "cells": [
  {
   "cell_type": "code",
   "execution_count": 1,
   "metadata": {},
   "outputs": [],
   "source": [
    "# get the libraries\n",
    "import matplotlib.pyplot as plt\n",
    "import pandas as pd\n",
    "import numpy as np\n",
    "import seaborn as sns\n",
    "\n",
    "from sklearn.svm import SVR\n",
    "from sklearn.model_selection import train_test_split\n",
    "from sklearn.preprocessing import StandardScaler"
   ]
  },
  {
   "cell_type": "code",
   "execution_count": 2,
   "metadata": {},
   "outputs": [],
   "source": [
    "df = pd.read_csv('Ireland_Housing.csv')"
   ]
  },
  {
   "cell_type": "code",
   "execution_count": 3,
   "metadata": {
    "scrolled": false
   },
   "outputs": [
    {
     "data": {
      "text/html": [
       "<div>\n",
       "<style scoped>\n",
       "    .dataframe tbody tr th:only-of-type {\n",
       "        vertical-align: middle;\n",
       "    }\n",
       "\n",
       "    .dataframe tbody tr th {\n",
       "        vertical-align: top;\n",
       "    }\n",
       "\n",
       "    .dataframe thead th {\n",
       "        text-align: right;\n",
       "    }\n",
       "</style>\n",
       "<table border=\"1\" class=\"dataframe\">\n",
       "  <thead>\n",
       "    <tr style=\"text-align: right;\">\n",
       "      <th></th>\n",
       "      <th>Statistic</th>\n",
       "      <th>Year</th>\n",
       "      <th>Dwelling Status</th>\n",
       "      <th>Stamp Duty Event</th>\n",
       "      <th>RPPI Region</th>\n",
       "      <th>Type of Buyer</th>\n",
       "      <th>UNIT</th>\n",
       "      <th>VALUE</th>\n",
       "    </tr>\n",
       "  </thead>\n",
       "  <tbody>\n",
       "    <tr>\n",
       "      <th>0</th>\n",
       "      <td>Volume of Sales</td>\n",
       "      <td>2010</td>\n",
       "      <td>All Dwelling Statuses</td>\n",
       "      <td>Filings</td>\n",
       "      <td>All</td>\n",
       "      <td>All Buyer Types</td>\n",
       "      <td>Number</td>\n",
       "      <td>19302</td>\n",
       "    </tr>\n",
       "    <tr>\n",
       "      <th>1</th>\n",
       "      <td>Volume of Sales</td>\n",
       "      <td>2010</td>\n",
       "      <td>All Dwelling Statuses</td>\n",
       "      <td>Filings</td>\n",
       "      <td>All</td>\n",
       "      <td>Household Buyer - First-Time Buyer Owner-Occupier</td>\n",
       "      <td>Number</td>\n",
       "      <td>10434</td>\n",
       "    </tr>\n",
       "    <tr>\n",
       "      <th>2</th>\n",
       "      <td>Volume of Sales</td>\n",
       "      <td>2010</td>\n",
       "      <td>All Dwelling Statuses</td>\n",
       "      <td>Filings</td>\n",
       "      <td>All</td>\n",
       "      <td>Household Buyer - Former Owner-Occupier</td>\n",
       "      <td>Number</td>\n",
       "      <td>6237</td>\n",
       "    </tr>\n",
       "    <tr>\n",
       "      <th>3</th>\n",
       "      <td>Volume of Sales</td>\n",
       "      <td>2010</td>\n",
       "      <td>All Dwelling Statuses</td>\n",
       "      <td>Filings</td>\n",
       "      <td>All</td>\n",
       "      <td>Household Buyer - Non-Occupier</td>\n",
       "      <td>Number</td>\n",
       "      <td>2631</td>\n",
       "    </tr>\n",
       "    <tr>\n",
       "      <th>4</th>\n",
       "      <td>Volume of Sales</td>\n",
       "      <td>2010</td>\n",
       "      <td>All Dwelling Statuses</td>\n",
       "      <td>Filings</td>\n",
       "      <td>Border Excluding Louth</td>\n",
       "      <td>All Buyer Types</td>\n",
       "      <td>Number</td>\n",
       "      <td>1465</td>\n",
       "    </tr>\n",
       "    <tr>\n",
       "      <th>...</th>\n",
       "      <td>...</td>\n",
       "      <td>...</td>\n",
       "      <td>...</td>\n",
       "      <td>...</td>\n",
       "      <td>...</td>\n",
       "      <td>...</td>\n",
       "      <td>...</td>\n",
       "      <td>...</td>\n",
       "    </tr>\n",
       "    <tr>\n",
       "      <th>12091</th>\n",
       "      <td>Volume of Sales</td>\n",
       "      <td>2021</td>\n",
       "      <td>Existing</td>\n",
       "      <td>Executions</td>\n",
       "      <td>Cork County</td>\n",
       "      <td>Household Buyer - Non-Occupier</td>\n",
       "      <td>Number</td>\n",
       "      <td>521</td>\n",
       "    </tr>\n",
       "    <tr>\n",
       "      <th>12092</th>\n",
       "      <td>Volume of Sales</td>\n",
       "      <td>2021</td>\n",
       "      <td>Existing</td>\n",
       "      <td>Executions</td>\n",
       "      <td>Kerry</td>\n",
       "      <td>All Buyer Types</td>\n",
       "      <td>Number</td>\n",
       "      <td>1162</td>\n",
       "    </tr>\n",
       "    <tr>\n",
       "      <th>12093</th>\n",
       "      <td>Volume of Sales</td>\n",
       "      <td>2021</td>\n",
       "      <td>Existing</td>\n",
       "      <td>Executions</td>\n",
       "      <td>Kerry</td>\n",
       "      <td>Household Buyer - First-Time Buyer Owner-Occupier</td>\n",
       "      <td>Number</td>\n",
       "      <td>217</td>\n",
       "    </tr>\n",
       "    <tr>\n",
       "      <th>12094</th>\n",
       "      <td>Volume of Sales</td>\n",
       "      <td>2021</td>\n",
       "      <td>Existing</td>\n",
       "      <td>Executions</td>\n",
       "      <td>Kerry</td>\n",
       "      <td>Household Buyer - Former Owner-Occupier</td>\n",
       "      <td>Number</td>\n",
       "      <td>628</td>\n",
       "    </tr>\n",
       "    <tr>\n",
       "      <th>12095</th>\n",
       "      <td>Volume of Sales</td>\n",
       "      <td>2021</td>\n",
       "      <td>Existing</td>\n",
       "      <td>Executions</td>\n",
       "      <td>Kerry</td>\n",
       "      <td>Household Buyer - Non-Occupier</td>\n",
       "      <td>Number</td>\n",
       "      <td>317</td>\n",
       "    </tr>\n",
       "  </tbody>\n",
       "</table>\n",
       "<p>12096 rows × 8 columns</p>\n",
       "</div>"
      ],
      "text/plain": [
       "             Statistic  Year        Dwelling Status Stamp Duty Event  \\\n",
       "0      Volume of Sales  2010  All Dwelling Statuses          Filings   \n",
       "1      Volume of Sales  2010  All Dwelling Statuses          Filings   \n",
       "2      Volume of Sales  2010  All Dwelling Statuses          Filings   \n",
       "3      Volume of Sales  2010  All Dwelling Statuses          Filings   \n",
       "4      Volume of Sales  2010  All Dwelling Statuses          Filings   \n",
       "...                ...   ...                    ...              ...   \n",
       "12091  Volume of Sales  2021               Existing       Executions   \n",
       "12092  Volume of Sales  2021               Existing       Executions   \n",
       "12093  Volume of Sales  2021               Existing       Executions   \n",
       "12094  Volume of Sales  2021               Existing       Executions   \n",
       "12095  Volume of Sales  2021               Existing       Executions   \n",
       "\n",
       "                  RPPI Region  \\\n",
       "0                         All   \n",
       "1                         All   \n",
       "2                         All   \n",
       "3                         All   \n",
       "4      Border Excluding Louth   \n",
       "...                       ...   \n",
       "12091             Cork County   \n",
       "12092                   Kerry   \n",
       "12093                   Kerry   \n",
       "12094                   Kerry   \n",
       "12095                   Kerry   \n",
       "\n",
       "                                           Type of Buyer    UNIT  VALUE  \n",
       "0                                        All Buyer Types  Number  19302  \n",
       "1      Household Buyer - First-Time Buyer Owner-Occupier  Number  10434  \n",
       "2                Household Buyer - Former Owner-Occupier  Number   6237  \n",
       "3                         Household Buyer - Non-Occupier  Number   2631  \n",
       "4                                        All Buyer Types  Number   1465  \n",
       "...                                                  ...     ...    ...  \n",
       "12091                     Household Buyer - Non-Occupier  Number    521  \n",
       "12092                                    All Buyer Types  Number   1162  \n",
       "12093  Household Buyer - First-Time Buyer Owner-Occupier  Number    217  \n",
       "12094            Household Buyer - Former Owner-Occupier  Number    628  \n",
       "12095                     Household Buyer - Non-Occupier  Number    317  \n",
       "\n",
       "[12096 rows x 8 columns]"
      ]
     },
     "execution_count": 3,
     "metadata": {},
     "output_type": "execute_result"
    }
   ],
   "source": [
    "df"
   ]
  },
  {
   "cell_type": "code",
   "execution_count": 4,
   "metadata": {},
   "outputs": [],
   "source": [
    "columns=df.columns\n",
    "df.rename(columns = {'RPPI Region':'Region'}, inplace = True)"
   ]
  },
  {
   "cell_type": "code",
   "execution_count": 5,
   "metadata": {
    "scrolled": true
   },
   "outputs": [
    {
     "name": "stdout",
     "output_type": "stream",
     "text": [
      "<class 'pandas.core.frame.DataFrame'>\n",
      "RangeIndex: 12096 entries, 0 to 12095\n",
      "Data columns (total 8 columns):\n",
      " #   Column            Non-Null Count  Dtype \n",
      "---  ------            --------------  ----- \n",
      " 0   Statistic         12096 non-null  object\n",
      " 1   Year              12096 non-null  int64 \n",
      " 2   Dwelling Status   12096 non-null  object\n",
      " 3   Stamp Duty Event  12096 non-null  object\n",
      " 4   Region            12096 non-null  object\n",
      " 5   Type of Buyer     12096 non-null  object\n",
      " 6   UNIT              12096 non-null  object\n",
      " 7   VALUE             12096 non-null  int64 \n",
      "dtypes: int64(2), object(6)\n",
      "memory usage: 756.1+ KB\n"
     ]
    }
   ],
   "source": [
    "df.info()"
   ]
  },
  {
   "cell_type": "code",
   "execution_count": 6,
   "metadata": {},
   "outputs": [
    {
     "data": {
      "text/html": [
       "<div>\n",
       "<style scoped>\n",
       "    .dataframe tbody tr th:only-of-type {\n",
       "        vertical-align: middle;\n",
       "    }\n",
       "\n",
       "    .dataframe tbody tr th {\n",
       "        vertical-align: top;\n",
       "    }\n",
       "\n",
       "    .dataframe thead th {\n",
       "        text-align: right;\n",
       "    }\n",
       "</style>\n",
       "<table border=\"1\" class=\"dataframe\">\n",
       "  <thead>\n",
       "    <tr style=\"text-align: right;\">\n",
       "      <th></th>\n",
       "      <th>Year</th>\n",
       "      <th>VALUE</th>\n",
       "    </tr>\n",
       "  </thead>\n",
       "  <tbody>\n",
       "    <tr>\n",
       "      <th>count</th>\n",
       "      <td>12096.000000</td>\n",
       "      <td>12096.000000</td>\n",
       "    </tr>\n",
       "    <tr>\n",
       "      <th>mean</th>\n",
       "      <td>2015.500000</td>\n",
       "      <td>816.877976</td>\n",
       "    </tr>\n",
       "    <tr>\n",
       "      <th>std</th>\n",
       "      <td>3.452195</td>\n",
       "      <td>2632.004327</td>\n",
       "    </tr>\n",
       "    <tr>\n",
       "      <th>min</th>\n",
       "      <td>2010.000000</td>\n",
       "      <td>0.000000</td>\n",
       "    </tr>\n",
       "    <tr>\n",
       "      <th>25%</th>\n",
       "      <td>2012.750000</td>\n",
       "      <td>73.000000</td>\n",
       "    </tr>\n",
       "    <tr>\n",
       "      <th>50%</th>\n",
       "      <td>2015.500000</td>\n",
       "      <td>215.000000</td>\n",
       "    </tr>\n",
       "    <tr>\n",
       "      <th>75%</th>\n",
       "      <td>2018.250000</td>\n",
       "      <td>625.000000</td>\n",
       "    </tr>\n",
       "    <tr>\n",
       "      <th>max</th>\n",
       "      <td>2021.000000</td>\n",
       "      <td>46419.000000</td>\n",
       "    </tr>\n",
       "  </tbody>\n",
       "</table>\n",
       "</div>"
      ],
      "text/plain": [
       "               Year         VALUE\n",
       "count  12096.000000  12096.000000\n",
       "mean    2015.500000    816.877976\n",
       "std        3.452195   2632.004327\n",
       "min     2010.000000      0.000000\n",
       "25%     2012.750000     73.000000\n",
       "50%     2015.500000    215.000000\n",
       "75%     2018.250000    625.000000\n",
       "max     2021.000000  46419.000000"
      ]
     },
     "execution_count": 6,
     "metadata": {},
     "output_type": "execute_result"
    }
   ],
   "source": [
    "# Descriptive statistics before removing 'All' rows\n",
    "df.describe()"
   ]
  },
  {
   "cell_type": "code",
   "execution_count": 7,
   "metadata": {},
   "outputs": [],
   "source": [
    "df = df[~df['Region'].isin(['All'])]\n",
    "df = df[~df['Type of Buyer'].isin(['All Buyer Types'])]\n",
    "df = df[~df['Dwelling Status'].isin(['All Dwelling Statuses'])]"
   ]
  },
  {
   "cell_type": "code",
   "execution_count": 8,
   "metadata": {},
   "outputs": [
    {
     "data": {
      "text/html": [
       "<div>\n",
       "<style scoped>\n",
       "    .dataframe tbody tr th:only-of-type {\n",
       "        vertical-align: middle;\n",
       "    }\n",
       "\n",
       "    .dataframe tbody tr th {\n",
       "        vertical-align: top;\n",
       "    }\n",
       "\n",
       "    .dataframe thead th {\n",
       "        text-align: right;\n",
       "    }\n",
       "</style>\n",
       "<table border=\"1\" class=\"dataframe\">\n",
       "  <thead>\n",
       "    <tr style=\"text-align: right;\">\n",
       "      <th></th>\n",
       "      <th>Year</th>\n",
       "      <th>VALUE</th>\n",
       "    </tr>\n",
       "  </thead>\n",
       "  <tbody>\n",
       "    <tr>\n",
       "      <th>count</th>\n",
       "      <td>5904.000000</td>\n",
       "      <td>5904.000000</td>\n",
       "    </tr>\n",
       "    <tr>\n",
       "      <th>mean</th>\n",
       "      <td>2015.500000</td>\n",
       "      <td>278.933943</td>\n",
       "    </tr>\n",
       "    <tr>\n",
       "      <th>std</th>\n",
       "      <td>3.452345</td>\n",
       "      <td>523.761126</td>\n",
       "    </tr>\n",
       "    <tr>\n",
       "      <th>min</th>\n",
       "      <td>2010.000000</td>\n",
       "      <td>0.000000</td>\n",
       "    </tr>\n",
       "    <tr>\n",
       "      <th>25%</th>\n",
       "      <td>2012.750000</td>\n",
       "      <td>31.000000</td>\n",
       "    </tr>\n",
       "    <tr>\n",
       "      <th>50%</th>\n",
       "      <td>2015.500000</td>\n",
       "      <td>106.000000</td>\n",
       "    </tr>\n",
       "    <tr>\n",
       "      <th>75%</th>\n",
       "      <td>2018.250000</td>\n",
       "      <td>282.000000</td>\n",
       "    </tr>\n",
       "    <tr>\n",
       "      <th>max</th>\n",
       "      <td>2021.000000</td>\n",
       "      <td>6399.000000</td>\n",
       "    </tr>\n",
       "  </tbody>\n",
       "</table>\n",
       "</div>"
      ],
      "text/plain": [
       "              Year        VALUE\n",
       "count  5904.000000  5904.000000\n",
       "mean   2015.500000   278.933943\n",
       "std       3.452345   523.761126\n",
       "min    2010.000000     0.000000\n",
       "25%    2012.750000    31.000000\n",
       "50%    2015.500000   106.000000\n",
       "75%    2018.250000   282.000000\n",
       "max    2021.000000  6399.000000"
      ]
     },
     "execution_count": 8,
     "metadata": {},
     "output_type": "execute_result"
    }
   ],
   "source": [
    "# Descriptive statistics after removing 'All' rows\n",
    "df.describe()"
   ]
  },
  {
   "cell_type": "code",
   "execution_count": 9,
   "metadata": {},
   "outputs": [
    {
     "name": "stderr",
     "output_type": "stream",
     "text": [
      "C:\\Users\\MASTER~1\\AppData\\Local\\Temp/ipykernel_6724/1160149678.py:1: FutureWarning: Dropping of nuisance columns in DataFrame reductions (with 'numeric_only=None') is deprecated; in a future version this will raise TypeError.  Select only valid columns before calling the reduction.\n",
      "  avg = df.mean()\n"
     ]
    },
    {
     "data": {
      "text/plain": [
       "Year     2015.500000\n",
       "VALUE     278.933943\n",
       "dtype: float64"
      ]
     },
     "execution_count": 9,
     "metadata": {},
     "output_type": "execute_result"
    }
   ],
   "source": [
    "avg = df.mean()\n",
    "avg"
   ]
  },
  {
   "cell_type": "code",
   "execution_count": 10,
   "metadata": {},
   "outputs": [
    {
     "name": "stderr",
     "output_type": "stream",
     "text": [
      "C:\\Users\\MASTER~1\\AppData\\Local\\Temp/ipykernel_6724/3897186036.py:1: FutureWarning: Dropping of nuisance columns in DataFrame reductions (with 'numeric_only=None') is deprecated; in a future version this will raise TypeError.  Select only valid columns before calling the reduction.\n",
      "  med = df.median()\n"
     ]
    },
    {
     "data": {
      "text/plain": [
       "Year     2015.5\n",
       "VALUE     106.0\n",
       "dtype: float64"
      ]
     },
     "execution_count": 10,
     "metadata": {},
     "output_type": "execute_result"
    }
   ],
   "source": [
    "med = df.median()\n",
    "med"
   ]
  },
  {
   "cell_type": "code",
   "execution_count": 11,
   "metadata": {},
   "outputs": [
    {
     "name": "stderr",
     "output_type": "stream",
     "text": [
      "C:\\Users\\MASTER~1\\AppData\\Local\\Temp/ipykernel_6724/1118077598.py:1: FutureWarning: Dropping of nuisance columns in DataFrame reductions (with 'numeric_only=None') is deprecated; in a future version this will raise TypeError.  Select only valid columns before calling the reduction.\n",
      "  standard = df.std()\n"
     ]
    },
    {
     "data": {
      "text/plain": [
       "Year       3.452345\n",
       "VALUE    523.761126\n",
       "dtype: float64"
      ]
     },
     "execution_count": 11,
     "metadata": {},
     "output_type": "execute_result"
    }
   ],
   "source": [
    "standard = df.std()\n",
    "standard"
   ]
  },
  {
   "cell_type": "code",
   "execution_count": 12,
   "metadata": {},
   "outputs": [
    {
     "data": {
      "text/html": [
       "<div>\n",
       "<style scoped>\n",
       "    .dataframe tbody tr th:only-of-type {\n",
       "        vertical-align: middle;\n",
       "    }\n",
       "\n",
       "    .dataframe tbody tr th {\n",
       "        vertical-align: top;\n",
       "    }\n",
       "\n",
       "    .dataframe thead th {\n",
       "        text-align: right;\n",
       "    }\n",
       "</style>\n",
       "<table border=\"1\" class=\"dataframe\">\n",
       "  <thead>\n",
       "    <tr style=\"text-align: right;\">\n",
       "      <th></th>\n",
       "      <th>Statistic</th>\n",
       "      <th>Year</th>\n",
       "      <th>Dwelling Status</th>\n",
       "      <th>Stamp Duty Event</th>\n",
       "      <th>Region</th>\n",
       "      <th>Type of Buyer</th>\n",
       "      <th>UNIT</th>\n",
       "      <th>VALUE</th>\n",
       "    </tr>\n",
       "  </thead>\n",
       "  <tbody>\n",
       "    <tr>\n",
       "      <th>341</th>\n",
       "      <td>Volume of Sales</td>\n",
       "      <td>2010</td>\n",
       "      <td>New</td>\n",
       "      <td>Filings</td>\n",
       "      <td>Border Excluding Louth</td>\n",
       "      <td>Household Buyer - First-Time Buyer Owner-Occupier</td>\n",
       "      <td>Number</td>\n",
       "      <td>313</td>\n",
       "    </tr>\n",
       "    <tr>\n",
       "      <th>342</th>\n",
       "      <td>Volume of Sales</td>\n",
       "      <td>2010</td>\n",
       "      <td>New</td>\n",
       "      <td>Filings</td>\n",
       "      <td>Border Excluding Louth</td>\n",
       "      <td>Household Buyer - Former Owner-Occupier</td>\n",
       "      <td>Number</td>\n",
       "      <td>218</td>\n",
       "    </tr>\n",
       "    <tr>\n",
       "      <th>343</th>\n",
       "      <td>Volume of Sales</td>\n",
       "      <td>2010</td>\n",
       "      <td>New</td>\n",
       "      <td>Filings</td>\n",
       "      <td>Border Excluding Louth</td>\n",
       "      <td>Household Buyer - Non-Occupier</td>\n",
       "      <td>Number</td>\n",
       "      <td>153</td>\n",
       "    </tr>\n",
       "    <tr>\n",
       "      <th>345</th>\n",
       "      <td>Volume of Sales</td>\n",
       "      <td>2010</td>\n",
       "      <td>New</td>\n",
       "      <td>Filings</td>\n",
       "      <td>Cavan</td>\n",
       "      <td>Household Buyer - First-Time Buyer Owner-Occupier</td>\n",
       "      <td>Number</td>\n",
       "      <td>83</td>\n",
       "    </tr>\n",
       "    <tr>\n",
       "      <th>346</th>\n",
       "      <td>Volume of Sales</td>\n",
       "      <td>2010</td>\n",
       "      <td>New</td>\n",
       "      <td>Filings</td>\n",
       "      <td>Cavan</td>\n",
       "      <td>Household Buyer - Former Owner-Occupier</td>\n",
       "      <td>Number</td>\n",
       "      <td>77</td>\n",
       "    </tr>\n",
       "    <tr>\n",
       "      <th>...</th>\n",
       "      <td>...</td>\n",
       "      <td>...</td>\n",
       "      <td>...</td>\n",
       "      <td>...</td>\n",
       "      <td>...</td>\n",
       "      <td>...</td>\n",
       "      <td>...</td>\n",
       "      <td>...</td>\n",
       "    </tr>\n",
       "    <tr>\n",
       "      <th>12090</th>\n",
       "      <td>Volume of Sales</td>\n",
       "      <td>2021</td>\n",
       "      <td>Existing</td>\n",
       "      <td>Executions</td>\n",
       "      <td>Cork County</td>\n",
       "      <td>Household Buyer - Former Owner-Occupier</td>\n",
       "      <td>Number</td>\n",
       "      <td>1797</td>\n",
       "    </tr>\n",
       "    <tr>\n",
       "      <th>12091</th>\n",
       "      <td>Volume of Sales</td>\n",
       "      <td>2021</td>\n",
       "      <td>Existing</td>\n",
       "      <td>Executions</td>\n",
       "      <td>Cork County</td>\n",
       "      <td>Household Buyer - Non-Occupier</td>\n",
       "      <td>Number</td>\n",
       "      <td>521</td>\n",
       "    </tr>\n",
       "    <tr>\n",
       "      <th>12093</th>\n",
       "      <td>Volume of Sales</td>\n",
       "      <td>2021</td>\n",
       "      <td>Existing</td>\n",
       "      <td>Executions</td>\n",
       "      <td>Kerry</td>\n",
       "      <td>Household Buyer - First-Time Buyer Owner-Occupier</td>\n",
       "      <td>Number</td>\n",
       "      <td>217</td>\n",
       "    </tr>\n",
       "    <tr>\n",
       "      <th>12094</th>\n",
       "      <td>Volume of Sales</td>\n",
       "      <td>2021</td>\n",
       "      <td>Existing</td>\n",
       "      <td>Executions</td>\n",
       "      <td>Kerry</td>\n",
       "      <td>Household Buyer - Former Owner-Occupier</td>\n",
       "      <td>Number</td>\n",
       "      <td>628</td>\n",
       "    </tr>\n",
       "    <tr>\n",
       "      <th>12095</th>\n",
       "      <td>Volume of Sales</td>\n",
       "      <td>2021</td>\n",
       "      <td>Existing</td>\n",
       "      <td>Executions</td>\n",
       "      <td>Kerry</td>\n",
       "      <td>Household Buyer - Non-Occupier</td>\n",
       "      <td>Number</td>\n",
       "      <td>317</td>\n",
       "    </tr>\n",
       "  </tbody>\n",
       "</table>\n",
       "<p>5904 rows × 8 columns</p>\n",
       "</div>"
      ],
      "text/plain": [
       "             Statistic  Year Dwelling Status Stamp Duty Event  \\\n",
       "341    Volume of Sales  2010             New          Filings   \n",
       "342    Volume of Sales  2010             New          Filings   \n",
       "343    Volume of Sales  2010             New          Filings   \n",
       "345    Volume of Sales  2010             New          Filings   \n",
       "346    Volume of Sales  2010             New          Filings   \n",
       "...                ...   ...             ...              ...   \n",
       "12090  Volume of Sales  2021        Existing       Executions   \n",
       "12091  Volume of Sales  2021        Existing       Executions   \n",
       "12093  Volume of Sales  2021        Existing       Executions   \n",
       "12094  Volume of Sales  2021        Existing       Executions   \n",
       "12095  Volume of Sales  2021        Existing       Executions   \n",
       "\n",
       "                       Region  \\\n",
       "341    Border Excluding Louth   \n",
       "342    Border Excluding Louth   \n",
       "343    Border Excluding Louth   \n",
       "345                     Cavan   \n",
       "346                     Cavan   \n",
       "...                       ...   \n",
       "12090             Cork County   \n",
       "12091             Cork County   \n",
       "12093                   Kerry   \n",
       "12094                   Kerry   \n",
       "12095                   Kerry   \n",
       "\n",
       "                                           Type of Buyer    UNIT  VALUE  \n",
       "341    Household Buyer - First-Time Buyer Owner-Occupier  Number    313  \n",
       "342              Household Buyer - Former Owner-Occupier  Number    218  \n",
       "343                       Household Buyer - Non-Occupier  Number    153  \n",
       "345    Household Buyer - First-Time Buyer Owner-Occupier  Number     83  \n",
       "346              Household Buyer - Former Owner-Occupier  Number     77  \n",
       "...                                                  ...     ...    ...  \n",
       "12090            Household Buyer - Former Owner-Occupier  Number   1797  \n",
       "12091                     Household Buyer - Non-Occupier  Number    521  \n",
       "12093  Household Buyer - First-Time Buyer Owner-Occupier  Number    217  \n",
       "12094            Household Buyer - Former Owner-Occupier  Number    628  \n",
       "12095                     Household Buyer - Non-Occupier  Number    317  \n",
       "\n",
       "[5904 rows x 8 columns]"
      ]
     },
     "execution_count": 12,
     "metadata": {},
     "output_type": "execute_result"
    }
   ],
   "source": [
    "df"
   ]
  },
  {
   "cell_type": "code",
   "execution_count": 13,
   "metadata": {},
   "outputs": [
    {
     "name": "stderr",
     "output_type": "stream",
     "text": [
      "C:\\Users\\MASTER~1\\AppData\\Local\\Temp/ipykernel_6724/3379983019.py:1: FutureWarning: In a future version of pandas all arguments of DataFrame.drop except for the argument 'labels' will be keyword-only\n",
      "  df = df.drop('Statistic', 1)\n",
      "C:\\Users\\MASTER~1\\AppData\\Local\\Temp/ipykernel_6724/3379983019.py:2: FutureWarning: In a future version of pandas all arguments of DataFrame.drop except for the argument 'labels' will be keyword-only\n",
      "  df = df.drop('UNIT', 1)\n"
     ]
    }
   ],
   "source": [
    "df = df.drop('Statistic', 1)\n",
    "df = df.drop('UNIT', 1)"
   ]
  },
  {
   "cell_type": "code",
   "execution_count": 14,
   "metadata": {
    "scrolled": true
   },
   "outputs": [
    {
     "data": {
      "text/html": [
       "<div>\n",
       "<style scoped>\n",
       "    .dataframe tbody tr th:only-of-type {\n",
       "        vertical-align: middle;\n",
       "    }\n",
       "\n",
       "    .dataframe tbody tr th {\n",
       "        vertical-align: top;\n",
       "    }\n",
       "\n",
       "    .dataframe thead th {\n",
       "        text-align: right;\n",
       "    }\n",
       "</style>\n",
       "<table border=\"1\" class=\"dataframe\">\n",
       "  <thead>\n",
       "    <tr style=\"text-align: right;\">\n",
       "      <th></th>\n",
       "      <th>Year</th>\n",
       "      <th>Dwelling Status</th>\n",
       "      <th>Stamp Duty Event</th>\n",
       "      <th>Region</th>\n",
       "      <th>Type of Buyer</th>\n",
       "      <th>VALUE</th>\n",
       "    </tr>\n",
       "  </thead>\n",
       "  <tbody>\n",
       "    <tr>\n",
       "      <th>341</th>\n",
       "      <td>2010</td>\n",
       "      <td>New</td>\n",
       "      <td>Filings</td>\n",
       "      <td>Border Excluding Louth</td>\n",
       "      <td>Household Buyer - First-Time Buyer Owner-Occupier</td>\n",
       "      <td>313</td>\n",
       "    </tr>\n",
       "    <tr>\n",
       "      <th>342</th>\n",
       "      <td>2010</td>\n",
       "      <td>New</td>\n",
       "      <td>Filings</td>\n",
       "      <td>Border Excluding Louth</td>\n",
       "      <td>Household Buyer - Former Owner-Occupier</td>\n",
       "      <td>218</td>\n",
       "    </tr>\n",
       "    <tr>\n",
       "      <th>343</th>\n",
       "      <td>2010</td>\n",
       "      <td>New</td>\n",
       "      <td>Filings</td>\n",
       "      <td>Border Excluding Louth</td>\n",
       "      <td>Household Buyer - Non-Occupier</td>\n",
       "      <td>153</td>\n",
       "    </tr>\n",
       "    <tr>\n",
       "      <th>345</th>\n",
       "      <td>2010</td>\n",
       "      <td>New</td>\n",
       "      <td>Filings</td>\n",
       "      <td>Cavan</td>\n",
       "      <td>Household Buyer - First-Time Buyer Owner-Occupier</td>\n",
       "      <td>83</td>\n",
       "    </tr>\n",
       "    <tr>\n",
       "      <th>346</th>\n",
       "      <td>2010</td>\n",
       "      <td>New</td>\n",
       "      <td>Filings</td>\n",
       "      <td>Cavan</td>\n",
       "      <td>Household Buyer - Former Owner-Occupier</td>\n",
       "      <td>77</td>\n",
       "    </tr>\n",
       "    <tr>\n",
       "      <th>347</th>\n",
       "      <td>2010</td>\n",
       "      <td>New</td>\n",
       "      <td>Filings</td>\n",
       "      <td>Cavan</td>\n",
       "      <td>Household Buyer - Non-Occupier</td>\n",
       "      <td>41</td>\n",
       "    </tr>\n",
       "    <tr>\n",
       "      <th>349</th>\n",
       "      <td>2010</td>\n",
       "      <td>New</td>\n",
       "      <td>Filings</td>\n",
       "      <td>Donegal</td>\n",
       "      <td>Household Buyer - First-Time Buyer Owner-Occupier</td>\n",
       "      <td>87</td>\n",
       "    </tr>\n",
       "    <tr>\n",
       "      <th>350</th>\n",
       "      <td>2010</td>\n",
       "      <td>New</td>\n",
       "      <td>Filings</td>\n",
       "      <td>Donegal</td>\n",
       "      <td>Household Buyer - Former Owner-Occupier</td>\n",
       "      <td>59</td>\n",
       "    </tr>\n",
       "    <tr>\n",
       "      <th>351</th>\n",
       "      <td>2010</td>\n",
       "      <td>New</td>\n",
       "      <td>Filings</td>\n",
       "      <td>Donegal</td>\n",
       "      <td>Household Buyer - Non-Occupier</td>\n",
       "      <td>55</td>\n",
       "    </tr>\n",
       "    <tr>\n",
       "      <th>353</th>\n",
       "      <td>2010</td>\n",
       "      <td>New</td>\n",
       "      <td>Filings</td>\n",
       "      <td>Leitrim</td>\n",
       "      <td>Household Buyer - First-Time Buyer Owner-Occupier</td>\n",
       "      <td>38</td>\n",
       "    </tr>\n",
       "  </tbody>\n",
       "</table>\n",
       "</div>"
      ],
      "text/plain": [
       "     Year Dwelling Status Stamp Duty Event                  Region  \\\n",
       "341  2010             New          Filings  Border Excluding Louth   \n",
       "342  2010             New          Filings  Border Excluding Louth   \n",
       "343  2010             New          Filings  Border Excluding Louth   \n",
       "345  2010             New          Filings                   Cavan   \n",
       "346  2010             New          Filings                   Cavan   \n",
       "347  2010             New          Filings                   Cavan   \n",
       "349  2010             New          Filings                 Donegal   \n",
       "350  2010             New          Filings                 Donegal   \n",
       "351  2010             New          Filings                 Donegal   \n",
       "353  2010             New          Filings                 Leitrim   \n",
       "\n",
       "                                         Type of Buyer  VALUE  \n",
       "341  Household Buyer - First-Time Buyer Owner-Occupier    313  \n",
       "342            Household Buyer - Former Owner-Occupier    218  \n",
       "343                     Household Buyer - Non-Occupier    153  \n",
       "345  Household Buyer - First-Time Buyer Owner-Occupier     83  \n",
       "346            Household Buyer - Former Owner-Occupier     77  \n",
       "347                     Household Buyer - Non-Occupier     41  \n",
       "349  Household Buyer - First-Time Buyer Owner-Occupier     87  \n",
       "350            Household Buyer - Former Owner-Occupier     59  \n",
       "351                     Household Buyer - Non-Occupier     55  \n",
       "353  Household Buyer - First-Time Buyer Owner-Occupier     38  "
      ]
     },
     "execution_count": 14,
     "metadata": {},
     "output_type": "execute_result"
    }
   ],
   "source": [
    "df.head(10)"
   ]
  },
  {
   "cell_type": "code",
   "execution_count": 15,
   "metadata": {},
   "outputs": [
    {
     "data": {
      "text/plain": [
       "0"
      ]
     },
     "execution_count": 15,
     "metadata": {},
     "output_type": "execute_result"
    }
   ],
   "source": [
    "df.isnull().any().sum()"
   ]
  },
  {
   "cell_type": "code",
   "execution_count": 16,
   "metadata": {},
   "outputs": [],
   "source": [
    "df['Dwelling Status'] = df['Dwelling Status'].map({'Existing': 0, 'New': 1})\n",
    "\n",
    "df['Stamp Duty Event'] = df['Stamp Duty Event'].map({'Executions': 0, 'Filings': 1})\n",
    "\n",
    "df['Type of Buyer'] = df['Type of Buyer'].map({'Household Buyer - First-Time Buyer Owner-Occupier': 0, \n",
    "                                                   'Household Buyer - Former Owner-Occupier': 1,\n",
    "                                                   'Household Buyer - Non-Occupier': 2})"
   ]
  },
  {
   "cell_type": "code",
   "execution_count": 17,
   "metadata": {},
   "outputs": [
    {
     "data": {
      "text/html": [
       "<div>\n",
       "<style scoped>\n",
       "    .dataframe tbody tr th:only-of-type {\n",
       "        vertical-align: middle;\n",
       "    }\n",
       "\n",
       "    .dataframe tbody tr th {\n",
       "        vertical-align: top;\n",
       "    }\n",
       "\n",
       "    .dataframe thead th {\n",
       "        text-align: right;\n",
       "    }\n",
       "</style>\n",
       "<table border=\"1\" class=\"dataframe\">\n",
       "  <thead>\n",
       "    <tr style=\"text-align: right;\">\n",
       "      <th></th>\n",
       "      <th>Year</th>\n",
       "      <th>Dwelling Status</th>\n",
       "      <th>Stamp Duty Event</th>\n",
       "      <th>Region</th>\n",
       "      <th>Type of Buyer</th>\n",
       "      <th>VALUE</th>\n",
       "    </tr>\n",
       "  </thead>\n",
       "  <tbody>\n",
       "    <tr>\n",
       "      <th>341</th>\n",
       "      <td>2010</td>\n",
       "      <td>1</td>\n",
       "      <td>1</td>\n",
       "      <td>Border Excluding Louth</td>\n",
       "      <td>0</td>\n",
       "      <td>313</td>\n",
       "    </tr>\n",
       "    <tr>\n",
       "      <th>342</th>\n",
       "      <td>2010</td>\n",
       "      <td>1</td>\n",
       "      <td>1</td>\n",
       "      <td>Border Excluding Louth</td>\n",
       "      <td>1</td>\n",
       "      <td>218</td>\n",
       "    </tr>\n",
       "    <tr>\n",
       "      <th>343</th>\n",
       "      <td>2010</td>\n",
       "      <td>1</td>\n",
       "      <td>1</td>\n",
       "      <td>Border Excluding Louth</td>\n",
       "      <td>2</td>\n",
       "      <td>153</td>\n",
       "    </tr>\n",
       "    <tr>\n",
       "      <th>345</th>\n",
       "      <td>2010</td>\n",
       "      <td>1</td>\n",
       "      <td>1</td>\n",
       "      <td>Cavan</td>\n",
       "      <td>0</td>\n",
       "      <td>83</td>\n",
       "    </tr>\n",
       "    <tr>\n",
       "      <th>346</th>\n",
       "      <td>2010</td>\n",
       "      <td>1</td>\n",
       "      <td>1</td>\n",
       "      <td>Cavan</td>\n",
       "      <td>1</td>\n",
       "      <td>77</td>\n",
       "    </tr>\n",
       "    <tr>\n",
       "      <th>347</th>\n",
       "      <td>2010</td>\n",
       "      <td>1</td>\n",
       "      <td>1</td>\n",
       "      <td>Cavan</td>\n",
       "      <td>2</td>\n",
       "      <td>41</td>\n",
       "    </tr>\n",
       "    <tr>\n",
       "      <th>349</th>\n",
       "      <td>2010</td>\n",
       "      <td>1</td>\n",
       "      <td>1</td>\n",
       "      <td>Donegal</td>\n",
       "      <td>0</td>\n",
       "      <td>87</td>\n",
       "    </tr>\n",
       "    <tr>\n",
       "      <th>350</th>\n",
       "      <td>2010</td>\n",
       "      <td>1</td>\n",
       "      <td>1</td>\n",
       "      <td>Donegal</td>\n",
       "      <td>1</td>\n",
       "      <td>59</td>\n",
       "    </tr>\n",
       "    <tr>\n",
       "      <th>351</th>\n",
       "      <td>2010</td>\n",
       "      <td>1</td>\n",
       "      <td>1</td>\n",
       "      <td>Donegal</td>\n",
       "      <td>2</td>\n",
       "      <td>55</td>\n",
       "    </tr>\n",
       "    <tr>\n",
       "      <th>353</th>\n",
       "      <td>2010</td>\n",
       "      <td>1</td>\n",
       "      <td>1</td>\n",
       "      <td>Leitrim</td>\n",
       "      <td>0</td>\n",
       "      <td>38</td>\n",
       "    </tr>\n",
       "  </tbody>\n",
       "</table>\n",
       "</div>"
      ],
      "text/plain": [
       "     Year  Dwelling Status  Stamp Duty Event                  Region  \\\n",
       "341  2010                1                 1  Border Excluding Louth   \n",
       "342  2010                1                 1  Border Excluding Louth   \n",
       "343  2010                1                 1  Border Excluding Louth   \n",
       "345  2010                1                 1                   Cavan   \n",
       "346  2010                1                 1                   Cavan   \n",
       "347  2010                1                 1                   Cavan   \n",
       "349  2010                1                 1                 Donegal   \n",
       "350  2010                1                 1                 Donegal   \n",
       "351  2010                1                 1                 Donegal   \n",
       "353  2010                1                 1                 Leitrim   \n",
       "\n",
       "     Type of Buyer  VALUE  \n",
       "341              0    313  \n",
       "342              1    218  \n",
       "343              2    153  \n",
       "345              0     83  \n",
       "346              1     77  \n",
       "347              2     41  \n",
       "349              0     87  \n",
       "350              1     59  \n",
       "351              2     55  \n",
       "353              0     38  "
      ]
     },
     "execution_count": 17,
     "metadata": {},
     "output_type": "execute_result"
    }
   ],
   "source": [
    "df.head(10)"
   ]
  },
  {
   "cell_type": "code",
   "execution_count": 18,
   "metadata": {},
   "outputs": [
    {
     "data": {
      "text/plain": [
       "1826.6805555555557"
      ]
     },
     "execution_count": 18,
     "metadata": {},
     "output_type": "execute_result"
    }
   ],
   "source": [
    "df.loc[df['Region'] == 'Dublin', 'VALUE'].mean()"
   ]
  },
  {
   "cell_type": "code",
   "execution_count": 19,
   "metadata": {},
   "outputs": [
    {
     "data": {
      "text/plain": [
       "794.8819444444445"
      ]
     },
     "execution_count": 19,
     "metadata": {},
     "output_type": "execute_result"
    }
   ],
   "source": [
    "df.loc[df['Region'] == 'South-West', 'VALUE'].mean()"
   ]
  },
  {
   "cell_type": "code",
   "execution_count": 20,
   "metadata": {},
   "outputs": [
    {
     "data": {
      "text/plain": [
       "497.4583333333333"
      ]
     },
     "execution_count": 20,
     "metadata": {},
     "output_type": "execute_result"
    }
   ],
   "source": [
    "df.loc[df['Region'] == 'South-East excluding South Tipperary', 'VALUE'].mean()"
   ]
  },
  {
   "cell_type": "code",
   "execution_count": 21,
   "metadata": {},
   "outputs": [
    {
     "data": {
      "text/plain": [
       "311.00694444444446"
      ]
     },
     "execution_count": 21,
     "metadata": {},
     "output_type": "execute_result"
    }
   ],
   "source": [
    "df.loc[df['Region'] == 'Midland', 'VALUE'].mean()"
   ]
  },
  {
   "cell_type": "code",
   "execution_count": 22,
   "metadata": {},
   "outputs": [
    {
     "name": "stdout",
     "output_type": "stream",
     "text": [
      "['Border Excluding Louth' 'Cavan' 'Donegal' 'Leitrim' 'Monaghan' 'Sligo'\n",
      " 'Midland' 'Laois' 'Longford' 'Offaly' 'Westmeath' 'West' 'Galway City'\n",
      " 'Galway County' 'Mayo' 'Roscommon' 'Dublin' 'Dublin City'\n",
      " 'Dún Laoghaire-Rathdown' 'Fingal' 'South Dublin'\n",
      " 'Mid-East including Louth' 'Kildare' 'Louth' 'Meath' 'Wicklow'\n",
      " 'Mid-West including South Tipperary' 'Limerick City' 'Limerick County'\n",
      " 'Clare' 'Tipperary' 'South-East excluding South Tipperary' 'Carlow'\n",
      " 'Kilkenny' 'Waterford City' 'Waterford County' 'Wexford' 'South-West'\n",
      " 'Cork City' 'Cork County' 'Kerry']\n"
     ]
    }
   ],
   "source": [
    "print(df['Region'].unique())"
   ]
  },
  {
   "cell_type": "code",
   "execution_count": 23,
   "metadata": {},
   "outputs": [
    {
     "name": "stdout",
     "output_type": "stream",
     "text": [
      "41\n"
     ]
    }
   ],
   "source": [
    "print(df['Region'].nunique())"
   ]
  },
  {
   "cell_type": "markdown",
   "metadata": {},
   "source": [
    "Druring the work on the last CA we have noticed that some Regions have subregions. For example data in Dublin consists data from: Dublin City, Dún Laoghaire-Rathdown, Fingal and South Dublin. We have decided to leave the main 8 groups and remove the rest."
   ]
  },
  {
   "cell_type": "code",
   "execution_count": 24,
   "metadata": {},
   "outputs": [],
   "source": [
    "df['Region'] = df['Region'].map({'Border Excluding Louth': 0, 'Midland': 1, 'West': 2, 'Dublin': 3, 'Mid-East including Louth': 4, 'Mid-West including South Tipperary': 5, 'South-East excluding South Tipperary': 6, 'South-West': 7})"
   ]
  },
  {
   "cell_type": "markdown",
   "metadata": {},
   "source": [
    "# Descriptive Statistics"
   ]
  },
  {
   "cell_type": "code",
   "execution_count": 25,
   "metadata": {},
   "outputs": [
    {
     "name": "stdout",
     "output_type": "stream",
     "text": [
      "Region\n",
      "0.0     413.972222\n",
      "1.0     311.006944\n",
      "2.0     495.243056\n",
      "3.0    1826.680556\n",
      "4.0     887.243056\n",
      "5.0     491.659722\n",
      "6.0     497.458333\n",
      "7.0     794.881944\n",
      "Name: VALUE, dtype: float64\n"
     ]
    }
   ],
   "source": [
    "means_by_region = df.groupby('Region')['VALUE'].mean()\n",
    "print(means_by_region)"
   ]
  },
  {
   "cell_type": "markdown",
   "metadata": {},
   "source": [
    "As we can see above, the lowest mean number of properties we can find in MIDLAND that consists: Laois, Longford, Offaly and Westmeath. It is widely known that Co. Longford is the county with the lowest density of population in Ireland. On the other side is of course Dublin area with the mean number of over 1,8 mln properties. It is nearlny six times more than in the 'Midland'. "
   ]
  },
  {
   "cell_type": "code",
   "execution_count": 26,
   "metadata": {},
   "outputs": [
    {
     "name": "stdout",
     "output_type": "stream",
     "text": [
      "Year\n",
      "2010    151.361789\n",
      "2011    129.418699\n",
      "2012    168.430894\n",
      "2013    199.780488\n",
      "2014    283.227642\n",
      "2015    324.483740\n",
      "2016    324.894309\n",
      "2017    351.780488\n",
      "2018    361.365854\n",
      "2019    368.085366\n",
      "2020    308.601626\n",
      "2021    375.776423\n",
      "Name: VALUE, dtype: float64\n"
     ]
    }
   ],
   "source": [
    "means_by_year = df.groupby('Year')['VALUE'].mean()\n",
    "print(means_by_year)"
   ]
  },
  {
   "cell_type": "markdown",
   "metadata": {},
   "source": [
    "The above numbers represent the means of the properties in Ireland in each year. We can see that the housing market from 2015 onward was two times higher that in 2010. Also we can notice a little drop in 2020. It was caused by pandemic. Just year later we were back to 'normal'. "
   ]
  },
  {
   "cell_type": "code",
   "execution_count": 27,
   "metadata": {},
   "outputs": [
    {
     "name": "stdout",
     "output_type": "stream",
     "text": [
      "Region\n",
      "0.0    1799\n",
      "1.0    1354\n",
      "2.0    1998\n",
      "3.0    6399\n",
      "4.0    3158\n",
      "5.0    2096\n",
      "6.0    2283\n",
      "7.0    2853\n",
      "Name: VALUE, dtype: int64\n"
     ]
    }
   ],
   "source": [
    "max_by_region = df.groupby('Region')['VALUE'].max()\n",
    "print(max_by_region)"
   ]
  },
  {
   "cell_type": "code",
   "execution_count": 28,
   "metadata": {},
   "outputs": [
    {
     "name": "stdout",
     "output_type": "stream",
     "text": [
      "Year\n",
      "2010    2995\n",
      "2011    2302\n",
      "2012    3437\n",
      "2013    4132\n",
      "2014    5092\n",
      "2015    5782\n",
      "2016    5653\n",
      "2017    5933\n",
      "2018    5829\n",
      "2019    6215\n",
      "2020    4858\n",
      "2021    6399\n",
      "Name: VALUE, dtype: int64\n"
     ]
    }
   ],
   "source": [
    "max_by_year = df.groupby('Year')['VALUE'].max()\n",
    "print(max_by_year)"
   ]
  },
  {
   "cell_type": "markdown",
   "metadata": {},
   "source": [
    "As earlier we can see the market growth. From 2015 it slows down a little. In 2019 it exceed 6 thousands units for the first time. Due the COVID it dropped a little and a year later it reaches 6 thousands units again.\n"
   ]
  },
  {
   "cell_type": "code",
   "execution_count": 29,
   "metadata": {},
   "outputs": [
    {
     "data": {
      "text/html": [
       "<div>\n",
       "<style scoped>\n",
       "    .dataframe tbody tr th:only-of-type {\n",
       "        vertical-align: middle;\n",
       "    }\n",
       "\n",
       "    .dataframe tbody tr th {\n",
       "        vertical-align: top;\n",
       "    }\n",
       "\n",
       "    .dataframe thead th {\n",
       "        text-align: right;\n",
       "    }\n",
       "</style>\n",
       "<table border=\"1\" class=\"dataframe\">\n",
       "  <thead>\n",
       "    <tr style=\"text-align: right;\">\n",
       "      <th></th>\n",
       "      <th>Year</th>\n",
       "      <th>Dwelling Status</th>\n",
       "      <th>Stamp Duty Event</th>\n",
       "      <th>Region</th>\n",
       "      <th>Type of Buyer</th>\n",
       "      <th>VALUE</th>\n",
       "    </tr>\n",
       "  </thead>\n",
       "  <tbody>\n",
       "    <tr>\n",
       "      <th>341</th>\n",
       "      <td>2010</td>\n",
       "      <td>1</td>\n",
       "      <td>1</td>\n",
       "      <td>0.0</td>\n",
       "      <td>0</td>\n",
       "      <td>313</td>\n",
       "    </tr>\n",
       "    <tr>\n",
       "      <th>342</th>\n",
       "      <td>2010</td>\n",
       "      <td>1</td>\n",
       "      <td>1</td>\n",
       "      <td>0.0</td>\n",
       "      <td>1</td>\n",
       "      <td>218</td>\n",
       "    </tr>\n",
       "    <tr>\n",
       "      <th>343</th>\n",
       "      <td>2010</td>\n",
       "      <td>1</td>\n",
       "      <td>1</td>\n",
       "      <td>0.0</td>\n",
       "      <td>2</td>\n",
       "      <td>153</td>\n",
       "    </tr>\n",
       "    <tr>\n",
       "      <th>345</th>\n",
       "      <td>2010</td>\n",
       "      <td>1</td>\n",
       "      <td>1</td>\n",
       "      <td>NaN</td>\n",
       "      <td>0</td>\n",
       "      <td>83</td>\n",
       "    </tr>\n",
       "    <tr>\n",
       "      <th>346</th>\n",
       "      <td>2010</td>\n",
       "      <td>1</td>\n",
       "      <td>1</td>\n",
       "      <td>NaN</td>\n",
       "      <td>1</td>\n",
       "      <td>77</td>\n",
       "    </tr>\n",
       "    <tr>\n",
       "      <th>347</th>\n",
       "      <td>2010</td>\n",
       "      <td>1</td>\n",
       "      <td>1</td>\n",
       "      <td>NaN</td>\n",
       "      <td>2</td>\n",
       "      <td>41</td>\n",
       "    </tr>\n",
       "    <tr>\n",
       "      <th>349</th>\n",
       "      <td>2010</td>\n",
       "      <td>1</td>\n",
       "      <td>1</td>\n",
       "      <td>NaN</td>\n",
       "      <td>0</td>\n",
       "      <td>87</td>\n",
       "    </tr>\n",
       "    <tr>\n",
       "      <th>350</th>\n",
       "      <td>2010</td>\n",
       "      <td>1</td>\n",
       "      <td>1</td>\n",
       "      <td>NaN</td>\n",
       "      <td>1</td>\n",
       "      <td>59</td>\n",
       "    </tr>\n",
       "    <tr>\n",
       "      <th>351</th>\n",
       "      <td>2010</td>\n",
       "      <td>1</td>\n",
       "      <td>1</td>\n",
       "      <td>NaN</td>\n",
       "      <td>2</td>\n",
       "      <td>55</td>\n",
       "    </tr>\n",
       "    <tr>\n",
       "      <th>353</th>\n",
       "      <td>2010</td>\n",
       "      <td>1</td>\n",
       "      <td>1</td>\n",
       "      <td>NaN</td>\n",
       "      <td>0</td>\n",
       "      <td>38</td>\n",
       "    </tr>\n",
       "  </tbody>\n",
       "</table>\n",
       "</div>"
      ],
      "text/plain": [
       "     Year  Dwelling Status  Stamp Duty Event  Region  Type of Buyer  VALUE\n",
       "341  2010                1                 1     0.0              0    313\n",
       "342  2010                1                 1     0.0              1    218\n",
       "343  2010                1                 1     0.0              2    153\n",
       "345  2010                1                 1     NaN              0     83\n",
       "346  2010                1                 1     NaN              1     77\n",
       "347  2010                1                 1     NaN              2     41\n",
       "349  2010                1                 1     NaN              0     87\n",
       "350  2010                1                 1     NaN              1     59\n",
       "351  2010                1                 1     NaN              2     55\n",
       "353  2010                1                 1     NaN              0     38"
      ]
     },
     "execution_count": 29,
     "metadata": {},
     "output_type": "execute_result"
    }
   ],
   "source": [
    "df.head(10)"
   ]
  },
  {
   "cell_type": "code",
   "execution_count": 30,
   "metadata": {},
   "outputs": [
    {
     "data": {
      "text/html": [
       "<div>\n",
       "<style scoped>\n",
       "    .dataframe tbody tr th:only-of-type {\n",
       "        vertical-align: middle;\n",
       "    }\n",
       "\n",
       "    .dataframe tbody tr th {\n",
       "        vertical-align: top;\n",
       "    }\n",
       "\n",
       "    .dataframe thead th {\n",
       "        text-align: right;\n",
       "    }\n",
       "</style>\n",
       "<table border=\"1\" class=\"dataframe\">\n",
       "  <thead>\n",
       "    <tr style=\"text-align: right;\">\n",
       "      <th></th>\n",
       "      <th>Year</th>\n",
       "      <th>Dwelling Status</th>\n",
       "      <th>Stamp Duty Event</th>\n",
       "      <th>Region</th>\n",
       "      <th>Type of Buyer</th>\n",
       "      <th>VALUE</th>\n",
       "    </tr>\n",
       "  </thead>\n",
       "  <tbody>\n",
       "    <tr>\n",
       "      <th>341</th>\n",
       "      <td>2010</td>\n",
       "      <td>1</td>\n",
       "      <td>1</td>\n",
       "      <td>0.0</td>\n",
       "      <td>0</td>\n",
       "      <td>313</td>\n",
       "    </tr>\n",
       "    <tr>\n",
       "      <th>342</th>\n",
       "      <td>2010</td>\n",
       "      <td>1</td>\n",
       "      <td>1</td>\n",
       "      <td>0.0</td>\n",
       "      <td>1</td>\n",
       "      <td>218</td>\n",
       "    </tr>\n",
       "    <tr>\n",
       "      <th>343</th>\n",
       "      <td>2010</td>\n",
       "      <td>1</td>\n",
       "      <td>1</td>\n",
       "      <td>0.0</td>\n",
       "      <td>2</td>\n",
       "      <td>153</td>\n",
       "    </tr>\n",
       "    <tr>\n",
       "      <th>365</th>\n",
       "      <td>2010</td>\n",
       "      <td>1</td>\n",
       "      <td>1</td>\n",
       "      <td>1.0</td>\n",
       "      <td>0</td>\n",
       "      <td>210</td>\n",
       "    </tr>\n",
       "    <tr>\n",
       "      <th>366</th>\n",
       "      <td>2010</td>\n",
       "      <td>1</td>\n",
       "      <td>1</td>\n",
       "      <td>1.0</td>\n",
       "      <td>1</td>\n",
       "      <td>105</td>\n",
       "    </tr>\n",
       "    <tr>\n",
       "      <th>...</th>\n",
       "      <td>...</td>\n",
       "      <td>...</td>\n",
       "      <td>...</td>\n",
       "      <td>...</td>\n",
       "      <td>...</td>\n",
       "      <td>...</td>\n",
       "    </tr>\n",
       "    <tr>\n",
       "      <th>12058</th>\n",
       "      <td>2021</td>\n",
       "      <td>0</td>\n",
       "      <td>0</td>\n",
       "      <td>6.0</td>\n",
       "      <td>1</td>\n",
       "      <td>2235</td>\n",
       "    </tr>\n",
       "    <tr>\n",
       "      <th>12059</th>\n",
       "      <td>2021</td>\n",
       "      <td>0</td>\n",
       "      <td>0</td>\n",
       "      <td>6.0</td>\n",
       "      <td>2</td>\n",
       "      <td>717</td>\n",
       "    </tr>\n",
       "    <tr>\n",
       "      <th>12081</th>\n",
       "      <td>2021</td>\n",
       "      <td>0</td>\n",
       "      <td>0</td>\n",
       "      <td>7.0</td>\n",
       "      <td>0</td>\n",
       "      <td>1461</td>\n",
       "    </tr>\n",
       "    <tr>\n",
       "      <th>12082</th>\n",
       "      <td>2021</td>\n",
       "      <td>0</td>\n",
       "      <td>0</td>\n",
       "      <td>7.0</td>\n",
       "      <td>1</td>\n",
       "      <td>2823</td>\n",
       "    </tr>\n",
       "    <tr>\n",
       "      <th>12083</th>\n",
       "      <td>2021</td>\n",
       "      <td>0</td>\n",
       "      <td>0</td>\n",
       "      <td>7.0</td>\n",
       "      <td>2</td>\n",
       "      <td>1082</td>\n",
       "    </tr>\n",
       "  </tbody>\n",
       "</table>\n",
       "<p>1152 rows × 6 columns</p>\n",
       "</div>"
      ],
      "text/plain": [
       "       Year  Dwelling Status  Stamp Duty Event  Region  Type of Buyer  VALUE\n",
       "341    2010                1                 1     0.0              0    313\n",
       "342    2010                1                 1     0.0              1    218\n",
       "343    2010                1                 1     0.0              2    153\n",
       "365    2010                1                 1     1.0              0    210\n",
       "366    2010                1                 1     1.0              1    105\n",
       "...     ...              ...               ...     ...            ...    ...\n",
       "12058  2021                0                 0     6.0              1   2235\n",
       "12059  2021                0                 0     6.0              2    717\n",
       "12081  2021                0                 0     7.0              0   1461\n",
       "12082  2021                0                 0     7.0              1   2823\n",
       "12083  2021                0                 0     7.0              2   1082\n",
       "\n",
       "[1152 rows x 6 columns]"
      ]
     },
     "execution_count": 30,
     "metadata": {},
     "output_type": "execute_result"
    }
   ],
   "source": [
    "df.dropna(subset = ['Region'])"
   ]
  },
  {
   "cell_type": "code",
   "execution_count": 31,
   "metadata": {},
   "outputs": [
    {
     "data": {
      "text/plain": [
       "278.9339430894309"
      ]
     },
     "execution_count": 31,
     "metadata": {},
     "output_type": "execute_result"
    }
   ],
   "source": [
    "df.VALUE.mean()"
   ]
  },
  {
   "cell_type": "code",
   "execution_count": 32,
   "metadata": {},
   "outputs": [
    {
     "name": "stdout",
     "output_type": "stream",
     "text": [
      "0.0    144\n",
      "1.0    144\n",
      "2.0    144\n",
      "3.0    144\n",
      "4.0    144\n",
      "5.0    144\n",
      "6.0    144\n",
      "7.0    144\n",
      "Name: Region, dtype: int64\n"
     ]
    }
   ],
   "source": [
    "print(df.Region.value_counts())"
   ]
  },
  {
   "cell_type": "code",
   "execution_count": 33,
   "metadata": {},
   "outputs": [
    {
     "data": {
      "text/html": [
       "<div>\n",
       "<style scoped>\n",
       "    .dataframe tbody tr th:only-of-type {\n",
       "        vertical-align: middle;\n",
       "    }\n",
       "\n",
       "    .dataframe tbody tr th {\n",
       "        vertical-align: top;\n",
       "    }\n",
       "\n",
       "    .dataframe thead th {\n",
       "        text-align: right;\n",
       "    }\n",
       "</style>\n",
       "<table border=\"1\" class=\"dataframe\">\n",
       "  <thead>\n",
       "    <tr style=\"text-align: right;\">\n",
       "      <th></th>\n",
       "      <th>Year</th>\n",
       "      <th>Dwelling Status</th>\n",
       "      <th>Stamp Duty Event</th>\n",
       "      <th>Region</th>\n",
       "      <th>Type of Buyer</th>\n",
       "      <th>VALUE</th>\n",
       "    </tr>\n",
       "  </thead>\n",
       "  <tbody>\n",
       "    <tr>\n",
       "      <th>341</th>\n",
       "      <td>2010</td>\n",
       "      <td>1</td>\n",
       "      <td>1</td>\n",
       "      <td>0.0</td>\n",
       "      <td>0</td>\n",
       "      <td>313</td>\n",
       "    </tr>\n",
       "    <tr>\n",
       "      <th>342</th>\n",
       "      <td>2010</td>\n",
       "      <td>1</td>\n",
       "      <td>1</td>\n",
       "      <td>0.0</td>\n",
       "      <td>1</td>\n",
       "      <td>218</td>\n",
       "    </tr>\n",
       "    <tr>\n",
       "      <th>343</th>\n",
       "      <td>2010</td>\n",
       "      <td>1</td>\n",
       "      <td>1</td>\n",
       "      <td>0.0</td>\n",
       "      <td>2</td>\n",
       "      <td>153</td>\n",
       "    </tr>\n",
       "    <tr>\n",
       "      <th>345</th>\n",
       "      <td>2010</td>\n",
       "      <td>1</td>\n",
       "      <td>1</td>\n",
       "      <td>NaN</td>\n",
       "      <td>0</td>\n",
       "      <td>83</td>\n",
       "    </tr>\n",
       "    <tr>\n",
       "      <th>346</th>\n",
       "      <td>2010</td>\n",
       "      <td>1</td>\n",
       "      <td>1</td>\n",
       "      <td>NaN</td>\n",
       "      <td>1</td>\n",
       "      <td>77</td>\n",
       "    </tr>\n",
       "    <tr>\n",
       "      <th>347</th>\n",
       "      <td>2010</td>\n",
       "      <td>1</td>\n",
       "      <td>1</td>\n",
       "      <td>NaN</td>\n",
       "      <td>2</td>\n",
       "      <td>41</td>\n",
       "    </tr>\n",
       "    <tr>\n",
       "      <th>349</th>\n",
       "      <td>2010</td>\n",
       "      <td>1</td>\n",
       "      <td>1</td>\n",
       "      <td>NaN</td>\n",
       "      <td>0</td>\n",
       "      <td>87</td>\n",
       "    </tr>\n",
       "    <tr>\n",
       "      <th>350</th>\n",
       "      <td>2010</td>\n",
       "      <td>1</td>\n",
       "      <td>1</td>\n",
       "      <td>NaN</td>\n",
       "      <td>1</td>\n",
       "      <td>59</td>\n",
       "    </tr>\n",
       "    <tr>\n",
       "      <th>351</th>\n",
       "      <td>2010</td>\n",
       "      <td>1</td>\n",
       "      <td>1</td>\n",
       "      <td>NaN</td>\n",
       "      <td>2</td>\n",
       "      <td>55</td>\n",
       "    </tr>\n",
       "    <tr>\n",
       "      <th>353</th>\n",
       "      <td>2010</td>\n",
       "      <td>1</td>\n",
       "      <td>1</td>\n",
       "      <td>NaN</td>\n",
       "      <td>0</td>\n",
       "      <td>38</td>\n",
       "    </tr>\n",
       "  </tbody>\n",
       "</table>\n",
       "</div>"
      ],
      "text/plain": [
       "     Year  Dwelling Status  Stamp Duty Event  Region  Type of Buyer  VALUE\n",
       "341  2010                1                 1     0.0              0    313\n",
       "342  2010                1                 1     0.0              1    218\n",
       "343  2010                1                 1     0.0              2    153\n",
       "345  2010                1                 1     NaN              0     83\n",
       "346  2010                1                 1     NaN              1     77\n",
       "347  2010                1                 1     NaN              2     41\n",
       "349  2010                1                 1     NaN              0     87\n",
       "350  2010                1                 1     NaN              1     59\n",
       "351  2010                1                 1     NaN              2     55\n",
       "353  2010                1                 1     NaN              0     38"
      ]
     },
     "execution_count": 33,
     "metadata": {},
     "output_type": "execute_result"
    }
   ],
   "source": [
    "df.head(10)"
   ]
  },
  {
   "cell_type": "code",
   "execution_count": 34,
   "metadata": {},
   "outputs": [
    {
     "name": "stdout",
     "output_type": "stream",
     "text": [
      "0.0    144\n",
      "1.0    144\n",
      "2.0    144\n",
      "3.0    144\n",
      "4.0    144\n",
      "5.0    144\n",
      "6.0    144\n",
      "7.0    144\n",
      "Name: Region, dtype: int64\n"
     ]
    }
   ],
   "source": [
    "print(df.Region.value_counts())"
   ]
  },
  {
   "cell_type": "code",
   "execution_count": 35,
   "metadata": {
    "scrolled": false
   },
   "outputs": [
    {
     "data": {
      "text/plain": [
       "<AxesSubplot:>"
      ]
     },
     "execution_count": 35,
     "metadata": {},
     "output_type": "execute_result"
    },
    {
     "data": {
      "image/png": "[encoded data removed]",
      "text/plain": [
       "<Figure size 1512x1512 with 2 Axes>"
      ]
     },
     "metadata": {
      "needs_background": "light"
     },
     "output_type": "display_data"
    }
   ],
   "source": [
    "#You can also plot a heat map to understand how each feature correlates to the other (Do they go hand in hand or are they inversely propotional)\n",
    "\n",
    "f= plt.subplots(figsize=(21,21))\n",
    "sns.heatmap(df.corr(),annot=True,fmt='.1f',color='green')  #We can use a simple seaborn method to draw the heatmaps"
   ]
  },
  {
   "cell_type": "code",
   "execution_count": 36,
   "metadata": {},
   "outputs": [
    {
     "data": {
      "text/plain": [
       "<AxesSubplot:xlabel='Year', ylabel='VALUE'>"
      ]
     },
     "execution_count": 36,
     "metadata": {},
     "output_type": "execute_result"
    },
    {
     "data": {
      "image/png": "[encoded data removed]",
      "text/plain": [
       "<Figure size 432x288 with 1 Axes>"
      ]
     },
     "metadata": {
      "needs_background": "light"
     },
     "output_type": "display_data"
    }
   ],
   "source": [
    "sns.scatterplot(x=df['Year'], y=df['VALUE'])"
   ]
  },
  {
   "cell_type": "code",
   "execution_count": 37,
   "metadata": {},
   "outputs": [
    {
     "data": {
      "text/plain": [
       "<AxesSubplot:xlabel='Dwelling Status', ylabel='VALUE'>"
      ]
     },
     "execution_count": 37,
     "metadata": {},
     "output_type": "execute_result"
    },
    {
     "data": {
      "image/png": "[encoded data removed]",
      "text/plain": [
       "<Figure size 432x288 with 1 Axes>"
      ]
     },
     "metadata": {
      "needs_background": "light"
     },
     "output_type": "display_data"
    }
   ],
   "source": [
    "sns.scatterplot(x=df['Dwelling Status'], y=df['VALUE'])"
   ]
  },
  {
   "cell_type": "code",
   "execution_count": 38,
   "metadata": {
    "scrolled": true
   },
   "outputs": [
    {
     "data": {
      "text/plain": [
       "<AxesSubplot:xlabel='Type of Buyer', ylabel='VALUE'>"
      ]
     },
     "execution_count": 38,
     "metadata": {},
     "output_type": "execute_result"
    },
    {
     "data": {
      "image/png": "[encoded data removed]",
      "text/plain": [
       "<Figure size 432x288 with 1 Axes>"
      ]
     },
     "metadata": {
      "needs_background": "light"
     },
     "output_type": "display_data"
    }
   ],
   "source": [
    "sns.scatterplot(x=df['Type of Buyer'], y=df['VALUE'])"
   ]
  },
  {
   "cell_type": "markdown",
   "metadata": {},
   "source": [
    "Before the final part of the CA we knew that our dataset isn't the best. We have done more data manipulation. Cleaning, etc and the results are still below criticism. The only conclusion is that we have chosen a pretty nice dataset where variables have no crrelation at all. No matter what was done the results clearly said that there is noting in our dataset that we can use. "
   ]
  },
  {
   "cell_type": "markdown",
   "metadata": {},
   "source": [
    "# Machine Learning part"
   ]
  },
  {
   "cell_type": "code",
   "execution_count": 39,
   "metadata": {},
   "outputs": [],
   "source": [
    "# split the data into featutes and target variable seperately\n",
    "X = df.iloc[:, [0]].values # features set\n",
    "y = df.iloc[:, -1].values # set of study variable"
   ]
  },
  {
   "cell_type": "code",
   "execution_count": 40,
   "metadata": {},
   "outputs": [],
   "source": [
    "X_train, X_test, y_train, y_test = train_test_split(X, y, test_size=0.25, random_state=42)"
   ]
  },
  {
   "cell_type": "code",
   "execution_count": 41,
   "metadata": {},
   "outputs": [],
   "source": [
    "df=df.dropna().reset_index(drop=True)"
   ]
  },
  {
   "cell_type": "code",
   "execution_count": 42,
   "metadata": {},
   "outputs": [
    {
     "name": "stdout",
     "output_type": "stream",
     "text": [
      "Requirement already satisfied: python-math in c:\\users\\masterbomba\\anaconda3\\anaconda3\\lib\\site-packages (0.0.1)\n",
      "It's math.isnan : True\n"
     ]
    }
   ],
   "source": [
    "!pip install python-math\n",
    "import math\n",
    "x = float(\"nan\")\n",
    "print(f\"It's math.isnan : {math.isnan(x)}\")"
   ]
  },
  {
   "cell_type": "code",
   "execution_count": 43,
   "metadata": {},
   "outputs": [],
   "source": [
    "y = y.reshape(-1,1)"
   ]
  },
  {
   "cell_type": "code",
   "execution_count": 44,
   "metadata": {},
   "outputs": [],
   "source": [
    "# Scale the data to be between -1 and 1\n",
    "scaler = StandardScaler()\n",
    "scaler.fit(X_train)\n",
    "X_train = scaler.transform(X_train)\n",
    "X_test = scaler.transform(X_test)"
   ]
  },
  {
   "cell_type": "code",
   "execution_count": 45,
   "metadata": {},
   "outputs": [],
   "source": [
    "# Establish a model\n",
    "model = SVR(C=1, cache_size=200, epsilon=1, kernel='rbf')"
   ]
  },
  {
   "cell_type": "code",
   "execution_count": 46,
   "metadata": {},
   "outputs": [
    {
     "data": {
      "text/plain": [
       "SVR(C=1, epsilon=1)"
      ]
     },
     "execution_count": 46,
     "metadata": {},
     "output_type": "execute_result"
    }
   ],
   "source": [
    "# Train the model\n",
    "model.fit(X_train, y_train)"
   ]
  },
  {
   "cell_type": "code",
   "execution_count": 47,
   "metadata": {},
   "outputs": [
    {
     "data": {
      "text/plain": [
       "-0.0832516524777227"
      ]
     },
     "execution_count": 47,
     "metadata": {},
     "output_type": "execute_result"
    }
   ],
   "source": [
    "# Score the model - test\n",
    "model.score(X_test, y_test)"
   ]
  },
  {
   "cell_type": "code",
   "execution_count": 48,
   "metadata": {},
   "outputs": [
    {
     "data": {
      "text/plain": [
       "-0.08388567945823722"
      ]
     },
     "execution_count": 48,
     "metadata": {},
     "output_type": "execute_result"
    }
   ],
   "source": [
    "# Score the model - train\n",
    "model.score(X_train, y_train)"
   ]
  },
  {
   "cell_type": "markdown",
   "metadata": {},
   "source": [
    "KNN - simple, easy-to-implement supervised machine learning algorithm that can be used to solve both classification and regression problems."
   ]
  },
  {
   "cell_type": "code",
   "execution_count": 49,
   "metadata": {},
   "outputs": [],
   "source": [
    "from sklearn.neighbors import KNeighborsClassifier\n",
    "clf = KNeighborsClassifier(n_neighbors=3)"
   ]
  },
  {
   "cell_type": "code",
   "execution_count": 50,
   "metadata": {},
   "outputs": [
    {
     "data": {
      "text/plain": [
       "KNeighborsClassifier(n_neighbors=3)"
      ]
     },
     "execution_count": 50,
     "metadata": {},
     "output_type": "execute_result"
    }
   ],
   "source": [
    "clf.fit(X_train,y_train)"
   ]
  },
  {
   "cell_type": "code",
   "execution_count": 51,
   "metadata": {},
   "outputs": [
    {
     "data": {
      "text/plain": [
       "array([28, 76, 26, ..., 11, 51, 30], dtype=int64)"
      ]
     },
     "execution_count": 51,
     "metadata": {},
     "output_type": "execute_result"
    }
   ],
   "source": [
    "clf.predict(X_test)"
   ]
  },
  {
   "cell_type": "code",
   "execution_count": 52,
   "metadata": {},
   "outputs": [
    {
     "name": "stdout",
     "output_type": "stream",
     "text": [
      "Accuracy on training set: 0.009\n",
      "Accuracy on test set: 0.007\n"
     ]
    }
   ],
   "source": [
    "print('Accuracy on training set: {:.3f}'.format(clf.score(X_train, y_train)))\n",
    "print('Accuracy on test set: {:.3f}'.format(clf.score(X_test, y_test)))"
   ]
  },
  {
   "cell_type": "markdown",
   "metadata": {},
   "source": [
    "Decision tree - can be used to visually and explicitly represent decisions and decision making. As the name goes, it uses a tree-like model of decisions."
   ]
  },
  {
   "cell_type": "code",
   "execution_count": 53,
   "metadata": {},
   "outputs": [],
   "source": [
    "from sklearn.tree import DecisionTreeClassifier"
   ]
  },
  {
   "cell_type": "code",
   "execution_count": 54,
   "metadata": {},
   "outputs": [
    {
     "name": "stdout",
     "output_type": "stream",
     "text": [
      "Accuracy on training set: 0.021\n",
      "Accuracy on test set: 0.010\n"
     ]
    }
   ],
   "source": [
    "tree=DecisionTreeClassifier(random_state=0)\n",
    "tree.fit(X_train, y_train)\n",
    "print('Accuracy on training set: {:.3f}'.format(tree.score(X_train, y_train)))\n",
    "print('Accuracy on test set: {:.3f}'.format(tree.score(X_test, y_test)))"
   ]
  },
  {
   "cell_type": "markdown",
   "metadata": {},
   "source": [
    "SVC - supervised machine learning algorithm used for both classification and regression. Though we say regression problems as well its best suited for classification."
   ]
  },
  {
   "cell_type": "code",
   "execution_count": 55,
   "metadata": {},
   "outputs": [
    {
     "name": "stdout",
     "output_type": "stream",
     "text": [
      "Accuracy on training set: 0.017\n",
      "Accuracy on test set: 0.015\n"
     ]
    }
   ],
   "source": [
    "from sklearn.svm import SVC\n",
    "svc = SVC()\n",
    "svc.fit(X_train, y_train)\n",
    "print('Accuracy on training set: {:.3f}'.format(svc.score(X_train, y_train)))\n",
    "print('Accuracy on test set: {:.3f}'.format(svc.score(X_test, y_test)))"
   ]
  },
  {
   "cell_type": "markdown",
   "metadata": {},
   "source": [
    "As expected, the results from our Machine Leanring models shows that the corelation between variables in our dataset is nearly 0. Hopefully in the future the datasets will be more useful than the one used in this final CA for Strategic Thinking."
   ]
  },
  {
   "cell_type": "code",
   "execution_count": null,
   "metadata": {},
   "outputs": [],
   "source": []
  }
 ],
 "metadata": {
  "kernelspec": {
   "display_name": "Python 3 (ipykernel)",
   "language": "python",
   "name": "python3"
  },
  "language_info": {
   "codemirror_mode": {
    "name": "ipython",
    "version": 3
   },
   "file_extension": ".py",
   "mimetype": "text/x-python",
   "name": "python",
   "nbconvert_exporter": "python",
   "pygments_lexer": "ipython3",
   "version": "3.9.7"
  }
 },
 "nbformat": 4,
 "nbformat_minor": 4
}
